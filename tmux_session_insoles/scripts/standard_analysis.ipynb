{
 "cells": [
  {
   "cell_type": "markdown",
   "id": "dddf7524",
   "metadata": {},
   "source": [
    "# Graphs of GRF, Inverse Kinematics, Dynamics and SO from XIMU3 using ROS-OpenSIMRT \n",
    "\n",
    "\n",
    "\n",
    "## ROT_STRING\n"
   ]
  },
  {
   "cell_type": "code",
   "execution_count": null,
   "id": "e704150f",
   "metadata": {},
   "outputs": [],
   "source": [
    "import os, sys\n",
    "sys.path.append(\"/home/frekle/github/opensimrt/Data/refdata/refdata\")\n",
    "import refdata\n",
    "import numpy as np\n",
    "import matplotlib.pyplot as plt\n",
    "from importlib import reload\n",
    "\n",
    "import glob\n",
    "import logging\n",
    "reload(logging)\n",
    "from rich.logging import RichHandler\n",
    "logging.basicConfig(format='%(funcName)s: %(message)s',\n",
    "                    datefmt='%Y-%m-%d %H:%M:%S', \n",
    "                    handlers=[RichHandler()],\n",
    "                    level=logging.INFO)\n",
    "logger = logging.getLogger(__name__)\n",
    "logger.setLevel(logging.DEBUG)\n",
    "\n",
    "import pprint\n",
    "def myprint(var):\n",
    "    nicevar = pprint.pformat(globals()[var], indent=1 , width=100)\n",
    "    logger.debug(f\"{var}:\\n{nicevar}\")\n",
    "\n",
    "\n",
    "def myprint2(var):\n",
    "    logger.debug(f\"{var}:\\n{globals()[var]}\")\n",
    "    \n",
    "refdata.plt.rcParams['figure.figsize'] = [12, 5]\n",
    "refdata.ROW_OF_FLOTS = 1\n",
    "\n",
    "######################### TRIAL INFO ##########################################\n",
    "\n",
    "this_action_name = \"walking\"\n",
    "##Edit next line to select at least this action!\n",
    "actions_to_be_shown = [ \"walking\" ]\n",
    "#['walk','gait','slow','fast']\n",
    "\n",
    "subject_num=\"02\"\n",
    "weight= 54\n",
    "conv_names = refdata.graph_params.get_id_graph_params(weight)\n",
    "myprint(\"conv_names\")\n",
    "\n",
    "skip_trials =[]\n",
    "\n",
    "###############################################################################\n",
    "\n",
    "#2023-03-03-11-56-24walking012_ik_lower.sto\n",
    "\n",
    "#sto_files = glob.glob(\"/home/frekle/github/opensimrt/catkin_ws/tmp/02/id_so_batch_walking_calcn/*.sto\")\n",
    "#this is overkill. I know I want to make sure I am looking at the correct file, \n",
    "#but it was getting too difficult to debug. just be extra careful!\n",
    "\n",
    "sto_files = glob.glob(\"*.sto\")\n",
    "sto_files.sort()\n",
    "myprint(\"sto_files\")\n",
    "\n",
    "ik_files = []\n",
    "grfL_files = []\n",
    "grfR_files = []\n",
    "id_files = []\n",
    "for i in range(100): #this is the upper bound, but it doesnt matter unless there is a lot of deleted trials\n",
    "    for file in sto_files:\n",
    "        if \"SCRIPT%d\"%i in file:\n",
    "            if \"ik.sto\" in file:\n",
    "                ik_files.append(file)\n",
    "                continue\n",
    "            if \"grfLeft.sto\" in file:\n",
    "                grfL_files.append(file)\n",
    "                continue\n",
    "            if \"grfRight.sto\" in file:\n",
    "                grfR_files.append(file)\n",
    "                continue\n",
    "            if \"tau.sto\" in file:\n",
    "                id_files.append(file)\n",
    "                \n",
    "                \n",
    "myprint(\"ik_files\")\n",
    "\n",
    "myprint(\"grfL_files\")\n",
    "\n",
    "myprint(\"grfR_files\")\n",
    "\n",
    "myprint(\"id_files\")"
   ]
  },
  {
   "cell_type": "code",
   "execution_count": null,
   "id": "c6e0ffd9",
   "metadata": {},
   "outputs": [],
   "source": [
    "reload(refdata)"
   ]
  },
  {
   "cell_type": "code",
   "execution_count": null,
   "id": "794c0d5b",
   "metadata": {},
   "outputs": [],
   "source": [
    "reload(refdata.graph_params)"
   ]
  },
  {
   "cell_type": "markdown",
   "id": "8944e074",
   "metadata": {},
   "source": [
    "## Finds the steps:"
   ]
  },
  {
   "cell_type": "code",
   "execution_count": null,
   "id": "21bbcbfb",
   "metadata": {
    "scrolled": false
   },
   "outputs": [],
   "source": [
    "step_seg_l_list = []\n",
    "step_seg_r_list = []\n",
    "\n",
    "for ik_, grfL_, grfR_ in zip(ik_files, grfL_files, grfR_files):   \n",
    "    ik_2 = refdata.TrialData(ik_, remove_time_offset=False)\n",
    "    zero_time = np.min(ik_2.data.time.values)\n",
    "    step_seg_l_list.append(refdata.each_side_plot(grfL_,zero_time,grf_name_prefix = \"1_ground_\", side=\"Left\", weight=weight))\n",
    "    step_seg_r_list.append(refdata.each_side_plot(grfR_,zero_time,grf_name_prefix = \"ground_\", side=\"Right\", weight=weight))"
   ]
  },
  {
   "cell_type": "markdown",
   "id": "06e85d97",
   "metadata": {},
   "source": [
    "# GRF PLOTs"
   ]
  },
  {
   "cell_type": "code",
   "execution_count": null,
   "id": "4ab200ea",
   "metadata": {},
   "outputs": [],
   "source": [
    "action_trials_left= []\n",
    "for trial in grfL_files:\n",
    "    for action_name in actions_to_be_shown:\n",
    "        if action_name in trial:\n",
    "            action_trials_left.append(trial)\n",
    "myprint(\"action_trials_left\") #= [\"/home/frekle/github/opensimrt/catkin_ws/tmp/02/48_s2_id_walking_filtered_1tau.sto\"]\n",
    "action_trials_right= []\n",
    "for trial in grfR_files:\n",
    "    for action_name in actions_to_be_shown:\n",
    "        if action_name in trial:\n",
    "            action_trials_right.append(trial)\n",
    "myprint(\"action_trials_right\") #= [\"/home/frekle/github/opensimrt/catkin_ws/tmp/02/48_s2_id_walking_filtered_1tau.sto\"]\n",
    "\n",
    "###looks like I really didnt want to mess up left with right, so there are a ton of different checks. maybe a bit excessive\n",
    "xy_idk_grfL = refdata.generate_somejoint_or_muscle_curves(action_trials_left,[],\n",
    "                                                          curve_prefix=\"1_ground_force_vy\",\n",
    "                                                         conv_names= \n",
    "                                                          refdata.graph_params.generate_grf_conv_names(0,weight),\n",
    "                                                          left_or_right=0)\n",
    "xy_idk_grfR = refdata.generate_somejoint_or_muscle_curves(action_trials_right,[],\n",
    "                                                          curve_prefix=\"ground_force_vy\",\n",
    "                                                         conv_names= \n",
    "                                                          refdata.graph_params.generate_grf_conv_names(1,weight),\n",
    "                                                          left_or_right=1)\n",
    "\n",
    "left_str_ = \"xy_time_clippings_left = {\\n\"\n",
    "for sg_list, (name, xy_tuples) in zip(step_seg_l_list,xy_idk_grfL[0].items()):\n",
    "    left_str_ +=\"\\\"%s\\\":%s,\\n\"%(name,sg_list)\n",
    "left_str_ += \"}\\n\"\n",
    "right_str_ = \"xy_time_clippings_right = {\\n\"\n",
    "for sg_list, (name, xy_tuples) in zip(step_seg_r_list,xy_idk_grfR[1].items()):\n",
    "    right_str_ += \"\\\"%s\\\":%s,\\n\"%(name,sg_list)\n",
    "right_str_ += \"}\\n\""
   ]
  },
  {
   "cell_type": "code",
   "execution_count": null,
   "id": "ee89de9d",
   "metadata": {},
   "outputs": [],
   "source": [
    "refdata.create_new_cell_below(left_str_)"
   ]
  },
  {
   "cell_type": "code",
   "execution_count": null,
   "id": "3878530a",
   "metadata": {},
   "outputs": [],
   "source": [
    "refdata.create_new_cell_below(right_str_)"
   ]
  },
  {
   "cell_type": "code",
   "execution_count": null,
   "id": "c5863496",
   "metadata": {
    "scrolled": false
   },
   "outputs": [],
   "source": [
    "##show some left side curve\n",
    "if False: #True:\n",
    "    for name, xy_tuples in xy_idk_grfL[0].items():\n",
    "        if name == action_trials_left[2]:\n",
    "            #plt.title(name)\n",
    "            print(name)\n",
    "            refdata.clip_curve_test(xy_tuples[0],xy_tuples[1], time_clips = xy_time_clippings_left[name] )\n",
    "\n",
    "##show some right side curve            \n",
    "if False: #True:\n",
    "    for name, xy_tuples in xy_idk_grfR[1].items():\n",
    "        if name == action_trials_right[0]:\n",
    "            #plt.title(name)\n",
    "            print(name)\n",
    "            refdata.clip_curve_test(xy_tuples[0],xy_tuples[1], time_clips = xy_time_clippings_right[name] )\n",
    "            \n",
    "##This has to run\n",
    "\n",
    "xy_clippings_both = (xy_time_clippings_left,xy_time_clippings_right)\n",
    "print(xy_clippings_both[0])\n",
    "print(xy_clippings_both[1])\n",
    "\n",
    "## Shows all trials\n",
    "if False: #True:\n",
    "    for name, xy_tuples in xy_idk_grfL[0].items():    \n",
    "        for action_name in actions_to_be_shown:\n",
    "            if action_name in name:\n",
    "                print(name+r\" left\")        \n",
    "                refdata.clip_curve_test(xy_tuples[0],xy_tuples[1], time_clips = xy_time_clippings_left[name] )\n",
    "    for name, xy_tuples in xy_idk_grfR[1].items():\n",
    "        for action_name in actions_to_be_shown:\n",
    "            if action_name in name:\n",
    "                print(name+r\" right\")        \n",
    "                refdata.clip_curve_test(xy_tuples[0],xy_tuples[1], time_clips = xy_time_clippings_right[name] )\n",
    "\n",
    "\n"
   ]
  },
  {
   "cell_type": "code",
   "execution_count": null,
   "id": "0b50ad62",
   "metadata": {},
   "outputs": [],
   "source": [
    "#this takes a while\n",
    "grf_ref_data = refdata.GRFWalkingRefData()"
   ]
  },
  {
   "cell_type": "code",
   "execution_count": null,
   "id": "3e771b1e",
   "metadata": {},
   "outputs": [],
   "source": [
    "conv_names = {}\n",
    "conv_names.update(refdata.graph_params.generate_grf_conv_names(0,weight))\n",
    "conv_names.update(refdata.graph_params.generate_grf_conv_names(1,weight))\n",
    "\n",
    "all_grf_curves_for_this_person = refdata.generate_action_plots([], xy_clippings_both, \n",
    "                                                           ref=grf_ref_data,\n",
    "                                                skip_trials=skip_trials,\n",
    "                                                action=this_action_name, include_actions=actions_to_be_shown,\n",
    "                                                conv_names=conv_names)"
   ]
  },
  {
   "cell_type": "code",
   "execution_count": null,
   "id": "3708a904",
   "metadata": {},
   "outputs": [],
   "source": [
    "\n",
    "print(\"Std plot\")\n",
    "\n",
    "\n",
    "_ = refdata.plot_std_plots(all_grf_curves_for_this_person, plot_std=True, ref=grf_ref_data,\n",
    "                       subplot_grid = (3,3),)\n",
    "refdata.plt.show()\n",
    "plt.savefig(f'sub{subject_num}_cop_id_{this_action_name}3x3_tighter_stds.png', bbox_inches = 'tight')\n",
    "\n"
   ]
  },
  {
   "cell_type": "code",
   "execution_count": null,
   "id": "5d58784e",
   "metadata": {},
   "outputs": [],
   "source": [
    "print(\"Every curve plot\")\n",
    "\n",
    "_ = refdata.plot_std_plots(all_grf_curves_for_this_person, plot_std=False, ref=grf_ref_data,\n",
    "                       subplot_grid = (3,3),)\n",
    "plt.savefig(f'sub{subject_num}_cop_id_{this_action_name}3x3_tighter_all.png', bbox_inches = 'tight')"
   ]
  },
  {
   "cell_type": "markdown",
   "id": "049e670f",
   "metadata": {},
   "source": [
    "# IK from ID plots:"
   ]
  },
  {
   "cell_type": "code",
   "execution_count": null,
   "id": "c1a146fb",
   "metadata": {},
   "outputs": [],
   "source": [
    "action_trials= []\n",
    "for trial in ik_files:\n",
    "    for action_name in actions_to_be_shown:\n",
    "        if action_name in trial:\n",
    "            action_trials.append(trial)\n",
    "action_trials #= [\"/home/frekle/github/opensimrt/catkin_ws/tmp/02/48_s2_id_ramp2stair_filtered_1tau.sto\"]"
   ]
  },
  {
   "cell_type": "code",
   "execution_count": null,
   "id": "0f8d545c",
   "metadata": {},
   "outputs": [],
   "source": [
    "xy_knees_ik = refdata.generate_somejoint_or_muscle_curves(action_trials,[], curve_prefix=\"ankle_angle\")\n",
    "\n",
    "xy_knees_list0 = []\n",
    "xy_knees_list1 = []\n",
    "for name, xy_tuples in xy_time_clippings_left.items():\n",
    "    xy_knees_list0.append(xy_tuples)    \n",
    "for name, xy_tuples in xy_time_clippings_right.items():\n",
    "    xy_knees_list1.append(xy_tuples)  \n",
    "\n",
    "left_str_ = \"xy_time_clippings_left = {\\n\"\n",
    "for sg_list, (name, xy_tuples) in zip(xy_knees_list0,xy_knees_ik[0].items()):\n",
    "    left_str_ +=\"\\\"%s\\\":%s,\\n\"%(name,sg_list)\n",
    "left_str_ += \"}\\n\"\n",
    "right_str_ = \"xy_time_clippings_right = {\\n\"\n",
    "for sg_list, (name, xy_tuples) in zip(xy_knees_list1,xy_knees_ik[1].items()):\n",
    "    right_str_ += \"\\\"%s\\\":%s,\\n\"%(name,sg_list)\n",
    "right_str_ += \"}\\n\"\n",
    "\n"
   ]
  },
  {
   "cell_type": "code",
   "execution_count": null,
   "id": "9d8c6a74",
   "metadata": {},
   "outputs": [],
   "source": [
    "## Only run once. fix in the cell below\n",
    "refdata.create_new_cell_below(left_str_)"
   ]
  },
  {
   "cell_type": "code",
   "execution_count": null,
   "id": "3756d52a",
   "metadata": {},
   "outputs": [],
   "source": [
    "# manual corrections (shouldnt be necessary!):\n",
    "\n",
    "for name, xy_tuples in xy_knees_ik[0].items():\n",
    "    if name == action_trials[0]:\n",
    "        #plt.title(name)        \n",
    "        print(name)\n",
    "        \n",
    "        refdata.clip_curve_test(xy_tuples[0],xy_tuples[1], time_clips = xy_time_clippings_left[name] )"
   ]
  },
  {
   "cell_type": "code",
   "execution_count": null,
   "id": "eb7853a6",
   "metadata": {},
   "outputs": [],
   "source": [
    "## Only run once. fix in the cell below\n",
    "refdata.create_new_cell_below(right_str_)"
   ]
  },
  {
   "cell_type": "code",
   "execution_count": null,
   "id": "9df37dac",
   "metadata": {},
   "outputs": [],
   "source": [
    "# manual corrections (shouldnt be necessary!):\n",
    "\n",
    "for name, xy_tuples in xy_knees_ik[1].items():\n",
    "    if name == action_trials[0]:\n",
    "        #plt.title(name)\n",
    "        print(name)\n",
    "        refdata.clip_curve_test(xy_tuples[0],xy_tuples[1], time_clips = xy_time_clippings_right[name] )"
   ]
  },
  {
   "cell_type": "code",
   "execution_count": null,
   "id": "ff405927",
   "metadata": {
    "scrolled": false
   },
   "outputs": [],
   "source": [
    "## show all data that will be included\n",
    "\n",
    "xy_clippings_both_ik = (xy_time_clippings_left,xy_time_clippings_right)\n",
    "\n",
    "for name, xy_tuples in xy_knees_ik[0].items():    \n",
    "    for action_name in actions_to_be_shown:\n",
    "        if action_name in name:\n",
    "            print(name+r\" left\")        \n",
    "            refdata.clip_curve_test(xy_tuples[0],xy_tuples[1], time_clips = xy_time_clippings_left[name] )\n",
    "for name, xy_tuples in xy_knees_ik[1].items():\n",
    "    for action_name in actions_to_be_shown:\n",
    "        if action_name in name:\n",
    "            print(name+r\" right\")        \n",
    "            refdata.clip_curve_test(xy_tuples[0],xy_tuples[1], time_clips = xy_time_clippings_right[name] )"
   ]
  },
  {
   "cell_type": "code",
   "execution_count": null,
   "id": "cc21c352",
   "metadata": {
    "scrolled": false
   },
   "outputs": [],
   "source": [
    "all_ik_curves_for_this_person = refdata.generate_action_plots(action_trials, xy_clippings_both_ik, ref=None, #refdata.GaitIKRefData(),\n",
    "                                            skip_trials=skip_trials,\n",
    "                                            action=this_action_name, include_actions=actions_to_be_shown,\n",
    "                                            conv_names=refdata.graph_params.get_ik_graph_params())"
   ]
  },
  {
   "cell_type": "code",
   "execution_count": null,
   "id": "6d7e31dd",
   "metadata": {},
   "outputs": [],
   "source": [
    "_ = refdata.plot_std_plots(all_ik_curves_for_this_person, plot_std=True, ref=refdata.GaitIKRefData(),subplot_grid = (3,3),)\n"
   ]
  },
  {
   "cell_type": "code",
   "execution_count": null,
   "id": "ed204f02",
   "metadata": {},
   "outputs": [],
   "source": [
    "_ = refdata.plot_std_plots(all_ik_curves_for_this_person, plot_std=False, ref=None, #refdata.GaitIKRefData(),\n",
    "                       subplot_grid = (3,3),)\n"
   ]
  },
  {
   "cell_type": "code",
   "execution_count": null,
   "id": "f4b49294",
   "metadata": {
    "scrolled": false
   },
   "outputs": [],
   "source": [
    "short_ik_curves_for_this_person = refdata.generate_action_plots([], xy_clippings_both_ik, ref=None, #refdata.GaitIKRefData(),\n",
    "                                            skip_trials=skip_trials,\n",
    "                                            action=this_action_name, include_actions=actions_to_be_shown,\n",
    "                                            conv_names=refdata.graph_params.get_ik_short_graph_params())\n",
    "\n",
    "_ = refdata.plot_std_plots(short_ik_curves_for_this_person, plot_std=True, ref=refdata.GaitIKRefData(),\n",
    "                       subplot_grid = (1,3),)\n"
   ]
  },
  {
   "cell_type": "markdown",
   "id": "4fc72d51",
   "metadata": {},
   "source": [
    "## ID curve plotting:"
   ]
  },
  {
   "cell_type": "code",
   "execution_count": null,
   "id": "7b82b7e8",
   "metadata": {},
   "outputs": [],
   "source": [
    "action_trials= []\n",
    "for trial in id_files:\n",
    "    for action_name in actions_to_be_shown:\n",
    "        if action_name in trial:\n",
    "            action_trials.append(trial)\n",
    "action_trials #= [\"/home/frekle/github/opensimrt/catkin_ws/tmp/02/48_s2_id_walking_filtered_1tau.sto\"]"
   ]
  },
  {
   "cell_type": "code",
   "execution_count": null,
   "id": "e8f5b760",
   "metadata": {},
   "outputs": [],
   "source": [
    "xy_knees_id = refdata.generate_somejoint_or_muscle_curves(action_trials,[], curve_prefix=\"ankle_angle\")\n",
    "\n",
    "\n",
    "xy_knees_list0 = []\n",
    "xy_knees_list1 = []\n",
    "for name, xy_tuples in xy_time_clippings_left.items():\n",
    "    xy_knees_list0.append(xy_tuples)    \n",
    "for name, xy_tuples in xy_time_clippings_right.items():\n",
    "    xy_knees_list1.append(xy_tuples)  \n",
    "\n",
    "left_str_ = \"xy_time_clippings_left = {\\n\"\n",
    "for sg_list, (name, xy_tuples) in zip(xy_knees_list0,xy_knees_id[0].items()):\n",
    "    left_str_ +=\"\\\"%s\\\":%s,\\n\"%(name,sg_list)\n",
    "left_str_ += \"}\\n\"\n",
    "right_str_ = \"xy_time_clippings_right = {\\n\"\n",
    "for sg_list, (name, xy_tuples) in zip(xy_knees_list1,xy_knees_id[1].items()):\n",
    "    right_str_ += \"\\\"%s\\\":%s,\\n\"%(name,sg_list)\n",
    "right_str_ += \"}\\n\"\n",
    "\n"
   ]
  },
  {
   "cell_type": "code",
   "execution_count": null,
   "id": "0c2b4ffa",
   "metadata": {},
   "outputs": [],
   "source": [
    "## Only run once. fix in the cell below\n",
    "refdata.create_new_cell_below(left_str_)"
   ]
  },
  {
   "cell_type": "code",
   "execution_count": null,
   "id": "9bc17f2b",
   "metadata": {},
   "outputs": [],
   "source": [
    "\n",
    "for name, xy_tuples in xy_knees_id[0].items():\n",
    "    if name == action_trials[0]:\n",
    "        #plt.title(name)        \n",
    "        print(name)\n",
    "        \n",
    "        refdata.clip_curve_test(xy_tuples[0],xy_tuples[1], time_clips = xy_time_clippings_left[name] )\n"
   ]
  },
  {
   "cell_type": "code",
   "execution_count": null,
   "id": "e15f84c1",
   "metadata": {},
   "outputs": [],
   "source": [
    "## Only run once. fix in the cell below\n",
    "refdata.create_new_cell_below(right_str_)"
   ]
  },
  {
   "cell_type": "code",
   "execution_count": null,
   "id": "f03d2025",
   "metadata": {},
   "outputs": [],
   "source": [
    "\n",
    "for name, xy_tuples in xy_knees_id[1].items():\n",
    "    if name == action_trials[0]:\n",
    "        #plt.title(name)\n",
    "        print(name)\n",
    "        refdata.clip_curve_test(xy_tuples[0],xy_tuples[1], time_clips = xy_time_clippings_right[name] )"
   ]
  },
  {
   "cell_type": "code",
   "execution_count": null,
   "id": "00da0f82",
   "metadata": {
    "scrolled": false
   },
   "outputs": [],
   "source": [
    "xy_clippings_both_id = (xy_time_clippings_left,xy_time_clippings_right)\n",
    "print(xy_clippings_both[0])\n",
    "print(xy_clippings_both[1])\n",
    "\n",
    "for name, xy_tuples in xy_knees_id[0].items():    \n",
    "    for action_name in actions_to_be_shown:\n",
    "        if action_name in name:\n",
    "            print(name+r\" left\")        \n",
    "            refdata.clip_curve_test(xy_tuples[0],xy_tuples[1], time_clips = xy_time_clippings_left[name] )\n",
    "for name, xy_tuples in xy_knees_id[1].items():\n",
    "    for action_name in actions_to_be_shown:\n",
    "        if action_name in name:\n",
    "            print(name+r\" right\")        \n",
    "            refdata.clip_curve_test(xy_tuples[0],xy_tuples[1], time_clips = xy_time_clippings_right[name] )"
   ]
  },
  {
   "cell_type": "code",
   "execution_count": null,
   "id": "8edca32c",
   "metadata": {
    "scrolled": false
   },
   "outputs": [],
   "source": [
    "all_id_curves_for_this_person = refdata.generate_action_plots([], xy_clippings_both_id, \n",
    "                                                           ref=refdata.IdData(this_action_name),\n",
    "                                                skip_trials=skip_trials,\n",
    "                                                action=this_action_name, include_actions=actions_to_be_shown,\n",
    "                                                conv_names=refdata.graph_params.get_id_all_graph_params(weight))"
   ]
  },
  {
   "cell_type": "code",
   "execution_count": null,
   "id": "48d1c669",
   "metadata": {
    "scrolled": false
   },
   "outputs": [],
   "source": [
    "_ = refdata.plot_std_plots(all_id_curves_for_this_person, plot_std=True, ref=refdata.IdData(this_action_name),\n",
    "                       subplot_grid = (4,3),)\n",
    "\n"
   ]
  },
  {
   "cell_type": "markdown",
   "id": "9189ebc0",
   "metadata": {},
   "source": [
    "## This actually needs pickling and combining. no idea where that code is, need to find it, maybe under some ramp copy?"
   ]
  },
  {
   "cell_type": "code",
   "execution_count": null,
   "id": "793460da",
   "metadata": {
    "scrolled": false
   },
   "outputs": [],
   "source": [
    "reload(refdata.graph_params)\n",
    "sagittal_id_curves_for_this_person = refdata.generate_action_plots([], xy_clippings_both_id, \n",
    "                                                           ref=refdata.IdData(this_action_name),\n",
    "                                                skip_trials=skip_trials,\n",
    "                                                action=this_action_name, include_actions=actions_to_be_shown,\n",
    "                                                conv_names=refdata.graph_params.get_id_graph_params(weight))\n",
    "\n",
    "_ = refdata.plot_std_plots(sagittal_id_curves_for_this_person, plot_std=True, ref=refdata.IdData(this_action_name),\n",
    "                       subplot_grid = (1,3),)\n",
    "\n",
    "plt.savefig(f'sub{subject_num}_id_sagittal_{this_action_name}_norefs_1x3_std.png', bbox_inches = 'tight')"
   ]
  },
  {
   "cell_type": "markdown",
   "id": "806d02e4",
   "metadata": {},
   "source": [
    "## This would go on paper for other movements. see pickling comment above"
   ]
  },
  {
   "cell_type": "code",
   "execution_count": null,
   "id": "d2fd8757",
   "metadata": {},
   "outputs": [],
   "source": [
    "_ = refdata.plot_std_plots(sagittal_id_curves_for_this_person, plot_std=False, ref=refdata.IdGaitData(this_action_name),\n",
    "                       subplot_grid = (1,3),)\n",
    "\n",
    "plt.savefig(f'sub{subject_num}_id_sagittal_{this_action_name}_gaitrefs_1x3_all.png', bbox_inches = 'tight')"
   ]
  },
  {
   "cell_type": "code",
   "execution_count": null,
   "id": "4ef074d0",
   "metadata": {},
   "outputs": [],
   "source": [
    "#refdata.plot_std_plots(all_id_curves_for_this_person, plot_std=False, ref=refdata.IdGaitData(this_action_name),\n",
    "_ = refdata.plot_std_plots(all_id_curves_for_this_person, plot_std=False, ref=refdata.IdData(this_action_name),\n",
    "                       subplot_grid = (4,3))\n"
   ]
  },
  {
   "cell_type": "markdown",
   "id": "1af65b64",
   "metadata": {},
   "source": [
    "# SO curves:"
   ]
  },
  {
   "cell_type": "code",
   "execution_count": null,
   "id": "e01d5575",
   "metadata": {},
   "outputs": [],
   "source": [
    "so_files = glob.glob(\"*so.sto\")\n",
    "so_files.sort()\n",
    "so_files"
   ]
  },
  {
   "cell_type": "code",
   "execution_count": null,
   "id": "e786758c",
   "metadata": {},
   "outputs": [],
   "source": [
    "so_action_trials= []\n",
    "for trial in so_files:\n",
    "    for action_name in actions_to_be_shown:\n",
    "        if action_name in trial:\n",
    "            so_action_trials.append(trial)"
   ]
  },
  {
   "cell_type": "code",
   "execution_count": null,
   "id": "b31076ff",
   "metadata": {},
   "outputs": [],
   "source": [
    "xy_knees_so = refdata.generate_somejoint_or_muscle_curves(so_action_trials, [], curve_prefix=\"glut_med1\", conv_names=refdata.graph_params.get_so_graph_params())"
   ]
  },
  {
   "cell_type": "code",
   "execution_count": null,
   "id": "5ffe9ba3",
   "metadata": {},
   "outputs": [],
   "source": [
    "xy_knees_list0 = []\n",
    "xy_knees_list1 = []\n",
    "for name, xy_tuples in xy_time_clippings_left.items():\n",
    "    xy_knees_list0.append((name,xy_tuples))    \n",
    "for name, xy_tuples in xy_time_clippings_right.items():\n",
    "    xy_knees_list1.append((name,xy_tuples))    "
   ]
  },
  {
   "cell_type": "code",
   "execution_count": null,
   "id": "1f8acec5",
   "metadata": {},
   "outputs": [],
   "source": [
    "left_so_str = \"xy_time_clippings_so_left = {\\n\"\n",
    "for i, (name, xy_tuples) in enumerate(xy_knees_so[0].items()):\n",
    "    left_so_str += \"\\\"\"+name+\"\\\":%s,\\n\"%str(xy_knees_list0[i][1])\n",
    "left_so_str +=\"}\\n\"\n",
    "right_so_str = \"xy_time_clippings_so_right = {\\n\"\n",
    "for i,(name, xy_tuples) in enumerate(xy_knees_so[1].items()):\n",
    "    right_so_str +=\"\\\"\"+name+\"\\\":%s,\\n\"%str(xy_knees_list1[i][1])\n",
    "right_so_str +=\"}\\n\"\n",
    "\n",
    "refdata.create_new_cell_below(left_so_str+right_so_str)"
   ]
  },
  {
   "cell_type": "code",
   "execution_count": null,
   "id": "909dcfb7",
   "metadata": {},
   "outputs": [],
   "source": [
    "xy_so_clippings_both = (xy_time_clippings_so_left,xy_time_clippings_so_right)\n",
    "print(xy_so_clippings_both[0])\n",
    "print(xy_so_clippings_both[1])"
   ]
  },
  {
   "cell_type": "markdown",
   "id": "00dca52a",
   "metadata": {},
   "source": [
    "## Generates curves for all muscles"
   ]
  },
  {
   "cell_type": "code",
   "execution_count": null,
   "id": "f5720226",
   "metadata": {},
   "outputs": [],
   "source": [
    "all_so_curves_for_this_person = refdata.generate_action_plots(so_action_trials, xy_so_clippings_both, ref=None,\n",
    "                                            skip_trials=skip_trials,\n",
    "                                            action=this_action_name, include_actions=actions_to_be_shown,\n",
    "                                            conv_names=refdata.graph_params.get_so_graph_params())"
   ]
  },
  {
   "cell_type": "markdown",
   "id": "4dfdf2c7",
   "metadata": {},
   "source": [
    "## Generates curves for main calf muscles"
   ]
  },
  {
   "cell_type": "code",
   "execution_count": null,
   "id": "62126052",
   "metadata": {
    "scrolled": false
   },
   "outputs": [],
   "source": [
    "selected_curves_for_this_person = refdata.generate_action_plots(so_action_trials, xy_so_clippings_both, ref=None,\n",
    "                                            skip_trials=skip_trials,\n",
    "                                            action=this_action_name, include_actions=actions_to_be_shown,\n",
    "                                            conv_names=refdata.graph_params.get_so_short_graph_params())"
   ]
  },
  {
   "cell_type": "markdown",
   "id": "cbec90ab",
   "metadata": {},
   "source": [
    "## Generates plots for every trial and mean std curves for SO"
   ]
  },
  {
   "cell_type": "code",
   "execution_count": null,
   "id": "16f2dd9f",
   "metadata": {},
   "outputs": [],
   "source": [
    "_ = refdata.plot_std_plots(selected_curves_for_this_person, plot_std=False, ref=refdata.SoData(this_action_name),\n",
    "                       subplot_grid = (2,3),)\n"
   ]
  },
  {
   "cell_type": "code",
   "execution_count": null,
   "id": "cf03f102",
   "metadata": {},
   "outputs": [],
   "source": [
    "plt.rcParams['figure.figsize'] = [8, 10]\n",
    "_ = refdata.plot_std_plots(selected_curves_for_this_person, plot_std=True, ref=refdata.SoData(this_action_name),\n",
    "                       subplot_grid = (2,3),)"
   ]
  },
  {
   "cell_type": "code",
   "execution_count": null,
   "id": "e27c82d1",
   "metadata": {},
   "outputs": [],
   "source": [
    "reload(refdata)\n",
    "plt.rcParams['figure.figsize'] = [8, 10]\n",
    "axcurve_list = refdata.creat_axs(all_ik_curves_for_this_person, ref= refdata.GaitIKRefData(this_action_name))\n",
    "fig, ax =  refdata.create_axs_dimensions(3,3) \n",
    "fig, ax, nl, legend = refdata.plotAX(axcurve_list, ax, fig)\n",
    "\n",
    "fig.legend(nl, legend,loc='center left', bbox_to_anchor=(1, 0.5))"
   ]
  },
  {
   "cell_type": "code",
   "execution_count": null,
   "id": "c23be423",
   "metadata": {},
   "outputs": [],
   "source": [
    "axcurve_list_id2 = refdata.apply_offset_to_axs(refdata.creat_axs(all_id_curves_for_this_person),3)\n",
    "\n",
    "axcurve_list.extend(axcurve_list_id2)"
   ]
  },
  {
   "cell_type": "code",
   "execution_count": null,
   "id": "e32aa1ea",
   "metadata": {
    "scrolled": false
   },
   "outputs": [],
   "source": [
    "fig, ax =  refdata.create_axs_dimensions(7,3) \n",
    "\n",
    "fig, ax, nl, legend = refdata.plotAX(axcurve_list, ax, fig)"
   ]
  },
  {
   "cell_type": "code",
   "execution_count": null,
   "id": "7525c4ea",
   "metadata": {},
   "outputs": [],
   "source": [
    "selected_curves_for_this_person_smaller = refdata.generate_action_plots(so_action_trials, xy_so_clippings_both, ref=None,\n",
    "                                            skip_trials=skip_trials,\n",
    "                                            action=this_action_name, include_actions=actions_to_be_shown,\n",
    "                                            conv_names=refdata.graph_params.get_so_even_smaller())"
   ]
  },
  {
   "cell_type": "code",
   "execution_count": null,
   "id": "8356317f",
   "metadata": {},
   "outputs": [],
   "source": [
    "axcurve_list_so2 = refdata.apply_offset_to_axs(refdata.creat_axs(selected_curves_for_this_person_smaller\n",
    "                                                                 ,ref=refdata.SoData(this_action_name)),0)"
   ]
  },
  {
   "cell_type": "code",
   "execution_count": null,
   "id": "e2a13be4",
   "metadata": {},
   "outputs": [],
   "source": [
    "\n",
    "\n",
    "fig, axs = refdata.create_axs_dimensions(1, 4, margin= 1.5, header = 1.2, subheigth = 6, subwidth= 6)\n",
    "\n",
    "#refdata.plt.rcParams['figure.figsize'] = [12, 4]\n",
    "#axcurve_list.extend(axcurve_list_so2)\n",
    "fig, ax, nl, legend = refdata.plotAX(axcurve_list_so2, axs, fig)\n"
   ]
  },
  {
   "cell_type": "code",
   "execution_count": null,
   "id": "80bd91f2",
   "metadata": {},
   "outputs": [],
   "source": [
    "axcurve_listXXXik = refdata.creat_axs(short_ik_curves_for_this_person, ref= refdata.GaitIKRefData(this_action_name))\n",
    "\n",
    "axcurve_listXXXid = refdata.apply_offset_to_axs(refdata.creat_axs(sagittal_id_curves_for_this_person),1)\n",
    "\n",
    "axcurve_listXXXso = refdata.apply_offset_to_axs(refdata.creat_axs(selected_curves_for_this_person\n",
    "                                                                 ,ref=refdata.SoData(this_action_name)),2)\n",
    "\n",
    "axcurve_listXXXik.extend(axcurve_listXXXid)\n",
    "axcurve_listXXXik.extend(axcurve_listXXXso)\n",
    "\n"
   ]
  },
  {
   "cell_type": "markdown",
   "id": "5e73fa1f",
   "metadata": {},
   "source": [
    "## This is the sagital plane with calf muscles and stds goes in paper"
   ]
  },
  {
   "cell_type": "code",
   "execution_count": null,
   "id": "c97346e2",
   "metadata": {
    "scrolled": false
   },
   "outputs": [],
   "source": [
    "import matplotlib as mpl\n",
    "from matplotlib.legend_handler import HandlerLine2D, HandlerTuple\n",
    "mpl.rcParams['figure.dpi'] = 300\n",
    "\n",
    "reload(refdata)\n",
    "fig, axs = refdata.create_axs_dimensions(4, 3, margin= 1.5, header = 1.2, subheigth = 6, subwidth= 6)\n",
    "for ax in axs.flatten():\n",
    "    ax.set_axis_off()\n",
    "\n",
    "fig, ax, nh, nl = refdata.plotAX(axcurve_listXXXik, axs, fig, plot_ref_curves=True)\n",
    "#fig.legend(nh[0:2], [\"Left\",\"Right\"],loc='lower right', bbox_to_anchor=(0.85, 0.18))#, loc='lower right')\n",
    "#fig.legend(nh, nl,loc='lower right', bbox_to_anchor=(0.85, 0.5))#, loc='lower right')\n",
    "l = fig.legend([(nh[1],nh[2],nh[3]),(nh[4],nh[5],nh[6]),(nh[0], )], [\"Left $\\pm$ 1 sd\",\"Right $\\pm$ 1 sd\",\"Ref. mean $\\pm$ 1 sd\"], numpoints=1,\n",
    "              handler_map={tuple: HandlerTuple(ndivide=None)},loc='lower right', bbox_to_anchor=(0.9, 0.2))\n",
    "\n",
    "plt.savefig(f'sub{subject_num}_ik_id_so_{this_action_name}4x3_tighter_stds.png', bbox_inches = 'tight')"
   ]
  },
  {
   "cell_type": "markdown",
   "id": "2e3e4602",
   "metadata": {},
   "source": [
    "## This is the sagital plane with calf muscles with all. maybe goes in appendix paper"
   ]
  },
  {
   "cell_type": "code",
   "execution_count": null,
   "id": "db5552e3",
   "metadata": {},
   "outputs": [],
   "source": [
    "fig, axs = refdata.create_axs_dimensions(4, 3, margin= 1.5, header = 1.2, subheigth = 6, subwidth= 6)\n",
    "for ax in axs.flatten():\n",
    "    ax.set_axis_off()\n",
    "\n",
    "reload(refdata)\n",
    "fig, ax, nh, nl = refdata.plotAX(axcurve_listXXXik, axs, fig, plot_ref_curves=True, plot_std=False, legend=True)\n",
    "print(nl)\n",
    "#fig.legend(nh[0:2], [\"Left\",\"Right\"],loc='lower right', bbox_to_anchor=(0.85, 0.18))#, loc='lower right')\n",
    "#fig.legend(nh, nl,loc='lower right', bbox_to_anchor=(0.85, 0.5))#, loc='lower right')\n",
    "#l = fig.legend([(nh[1],nh[2],nh[3]),(nh[4],nh[5],nh[6]),(nh[0], )], [\"Left $\\pm$ 1 sd\",\"Right $\\pm$ 1 sd\",\"Ref. mean $\\pm$ 1 sd\"], numpoints=1,\n",
    "#              handler_map={tuple: HandlerTuple(ndivide=None)},loc='lower right', bbox_to_anchor=(0.9, 0.2))\n",
    "\n",
    "plt.savefig(f'sub{subject_num}_ik_id_so_{this_action_name}4x3_tighter_all.png', bbox_inches = 'tight')\n",
    "!nautilus ."
   ]
  },
  {
   "cell_type": "code",
   "execution_count": null,
   "id": "3e13da59",
   "metadata": {},
   "outputs": [],
   "source": [
    "axcurve_list_so3 = refdata.apply_offset_to_axs(refdata.creat_axs(selected_curves_for_this_person_smaller\n",
    "                                                                 ,ref=refdata.SoData(this_action_name)),2)\n",
    "axcurve_list.extend(axcurve_list_so3)"
   ]
  },
  {
   "cell_type": "code",
   "execution_count": null,
   "id": "99e383e8",
   "metadata": {
    "scrolled": false
   },
   "outputs": [],
   "source": [
    "axcurve_list__ = refdata.creat_axs(short_ik_curves_for_this_person, ref= refdata.GaitIKRefData(this_action_name))\n",
    "\n",
    "axcurve_list___ = refdata.apply_offset_to_axs(refdata.creat_axs(all_id_curves_for_this_person, ref=refdata.IdGaitData(this_action_name)),1)\n",
    "\n",
    "axcurve_list____ = refdata.apply_offset_to_axs(refdata.creat_axs(selected_curves_for_this_person_smaller\n",
    "                                                                 ,ref=refdata.SoData(this_action_name)),4)\n",
    "\n",
    "axcurve_list__.extend(axcurve_list___)\n",
    "axcurve_list__.extend(axcurve_list____)\n"
   ]
  },
  {
   "cell_type": "code",
   "execution_count": null,
   "id": "89d6a97a",
   "metadata": {},
   "outputs": [],
   "source": [
    "fig, ax =  refdata.create_axs_dimensions(5,4)\n",
    "\n",
    "fig, ax, nl, legend = refdata.plotAX(axcurve_list__, ax, fig)"
   ]
  },
  {
   "cell_type": "code",
   "execution_count": null,
   "id": "a0b064c4",
   "metadata": {
    "scrolled": false
   },
   "outputs": [],
   "source": [
    "\n",
    "import matplotlib as mpl\n",
    "mpl.rcParams['figure.dpi'] = 300\n",
    "\n",
    "reload(refdata)\n",
    "fig, axs = refdata.create_axs_dimensions(5, 4, margin= 1.5, header = 1.5, subheigth = 6, subwidth= 6)\n",
    "for ax in axs.flatten():\n",
    "    ax.set_axis_off()\n",
    "\n",
    "fig, ax, nh, nl = refdata.plotAX(axcurve_list__, axs, fig, plot_ref_curves=True)\n",
    "print(nl)\n",
    "#fig.legend(nh[0:2], [\"Left\",\"Right\"],loc='lower right', bbox_to_anchor=(0.85, 0.18))#, loc='lower right')\n",
    "#fig.legend(nh, nl,loc='lower right', bbox_to_anchor=(0.85, 0.5))#, loc='lower right')\n",
    "l = fig.legend([(nh[3],nh[4],nh[5]),\n",
    "                (nh[7],nh[8],nh[9]),\n",
    "                (nh[2], ),\n",
    "                (nh[0],nh[1],nh[6])], \n",
    "               [\"Left $\\pm$ 1 sd\",\n",
    "                \"Right $\\pm$ 1 sd\",\n",
    "                \"Ref. mean $\\pm$ 1 sd\",\n",
    "                \"mean $\\pm$ 1sd\"], numpoints=1,\n",
    "              handler_map={tuple: HandlerTuple(ndivide=None)},loc='lower right', bbox_to_anchor=(0.9, 0.5))"
   ]
  },
  {
   "cell_type": "code",
   "execution_count": null,
   "id": "50006c7e",
   "metadata": {},
   "outputs": [],
   "source": [
    "fig, axs = refdata.create_axs_dimensions(5, 4, margin= 1.5, header = 1.5, subheigth = 6, subwidth= 6)\n",
    "for ax in axs.flatten():\n",
    "    ax.set_axis_off()\n",
    "\n",
    "fig, ax, nh, nl = refdata.plotAX(axcurve_list__, axs, fig)\n",
    "#fig.legend(nh[0:2], [\"Left\",\"Right\"],loc='lower right', bbox_to_anchor=(0.85, 0.18))#, loc='lower right')\n",
    "#fig.legend(nh, nl,loc='lower right', bbox_to_anchor=(0.85, 0.5))#, loc='lower right')\n",
    "l = fig.legend([(nh[1],nh[2],nh[3]),(nh[4],nh[5],nh[6]),(nh[0], )], [\"Left $\\pm$ 1 sd\",\"Right $\\pm$ 1 sd\",\"Ref. mean $\\pm$ 1 sd\"], numpoints=1,\n",
    "              handler_map={tuple: HandlerTuple(ndivide=None)},loc='lower right', bbox_to_anchor=(0.9, 0.5))"
   ]
  },
  {
   "cell_type": "markdown",
   "id": "62013936",
   "metadata": {},
   "source": [
    "## generate graphs from id or so events"
   ]
  },
  {
   "cell_type": "code",
   "execution_count": null,
   "id": "091f150c",
   "metadata": {},
   "outputs": [],
   "source": [
    "import re\n",
    "\n",
    "#which_bag_to_parse = \"id\"\n",
    "which_bag_to_parse = \"so\"\n",
    "\n",
    "def escape_special_characters(input_string):\n",
    "    # Define a dictionary of characters to be escaped\n",
    "    escape_dict = {\n",
    "        \"&\": r\"\\&\",\n",
    "        \"%\": r\"\\%\",\n",
    "        \"$\": r\"\\$\",\n",
    "        \"#\": r\"\\#\",\n",
    "        \"_\": r\"\\_\",\n",
    "        \"{\": r\"\\{\",\n",
    "        \"}\": r\"\\}\",\n",
    "        \"^\": r\"\\^{}\",\n",
    "        \"~\": r\"\\textasciitilde{}\",\n",
    "        \"\\\\\": r\"\\textbackslash{}\"\n",
    "    }\n",
    "    \n",
    "    # Use regular expressions to find and escape the characters\n",
    "    escaped_string = re.sub(r'([&%$#_{}^~\\\\])', lambda x: escape_dict[x.group()], input_string)\n",
    "    \n",
    "    return escaped_string\n",
    "\n",
    "import pandas as pd\n",
    "import numpy as np\n",
    "import matplotlib.pyplot as plt\n",
    "\n",
    "plt.rcParams['figure.figsize'] = [16, 12]\n",
    "def eventnames(df):\n",
    "    d = {}\n",
    "    for coln in df.columns:\n",
    "        if \"field.header.stamp\" == coln:\n",
    "            #real_name = df[\"field.header.frame_id\"]\n",
    "            real_name = \"ik produced\"\n",
    "            d.update({coln: real_name})\n",
    "        if \"stamp\" in coln and \"event\" in coln:\n",
    "            real_name_col = \".\".join(coln.split(\".\")[0:3])+\".name\"\n",
    "            real_name = df[real_name_col][0]\n",
    "            d.update ({coln: real_name})\n",
    "    #for coln, real_name in d.items():\n",
    "    #    print(\"%s -> %s\"%(coln, real_name))\n",
    "    return d\n",
    "#wanted_cols = eventnames(df)\n",
    "\n",
    "def get_cols(df):\n",
    "    wanted_cols = eventnames(df)\n",
    "    a = []\n",
    "    for v in wanted_cols:\n",
    "        a.append(v)\n",
    "        #print(v)\n",
    "    return a, wanted_cols\n",
    "\n",
    "def rename_df(df):\n",
    "    a = get_cols(df)\n",
    "    return df[a[0]].rename(columns=a[1])\n",
    "\n",
    "def plot_differences(df):\n",
    "    \n",
    "    fig, ax = plt.subplots()\n",
    "    for i, col in enumerate(df.columns):\n",
    "        if i == 0:\n",
    "            continue\n",
    "        this_column = df.iloc[:,i]\n",
    "        #print(this_column)\n",
    "        ref_column = df.iloc[:,i-1]\n",
    "        #print(ref_column)\n",
    "        \n",
    "        y = this_column -ref_column\n",
    "        y_label = df.columns[i] +\" - \" + df.columns[i-1]\n",
    "        print(\"%s:\\t %f ms\"%(y_label+\" mean\", np.mean(y)/1000000))\n",
    "        y_label_cleaned = escape_special_characters(y_label)\n",
    "        ax.plot(y, label= y_label_cleaned)\n",
    "    ax.legend()\n",
    "\n",
    "bag_files = glob.glob(\"%s*.bag_timings.txt\"%which_bag_to_parse)    \n",
    "\n",
    "for file_i in bag_files:\n",
    "    df = pd.read_csv(file_i)\n",
    "    a = rename_df(df)\n",
    "    plot_differences(a)\n",
    "    plt.show()"
   ]
  },
  {
   "cell_type": "markdown",
   "id": "37152391",
   "metadata": {},
   "source": [
    "# Saving figures part\n",
    "\n",
    "This is old, needs to be updated before being used!"
   ]
  },
  {
   "cell_type": "code",
   "execution_count": null,
   "id": "2c9e116b",
   "metadata": {},
   "outputs": [],
   "source": [
    "import pickle\n"
   ]
  },
  {
   "cell_type": "code",
   "execution_count": null,
   "id": "01bc8a34",
   "metadata": {},
   "outputs": [],
   "source": [
    "#subject_data_directory = os.getcwd().split(\"experiment_data/\")[0]+\"experiment_data/\"\n",
    "subject_data_directory = os.getcwd()"
   ]
  },
  {
   "cell_type": "code",
   "execution_count": null,
   "id": "9780a57e",
   "metadata": {},
   "outputs": [],
   "source": [
    "_filename = f\"{subject_num}_{this_action_name}_allcurves.pkl\"\n",
    "\n",
    "subject_complete_filename = os.path.join(subject_data_directory, _filename)\n",
    "print(subject_complete_filename)\n",
    "f = open(subject_complete_filename,\"wb\")\n",
    "pickle.dump(all_ik_curves_for_this_person,f)\n",
    "f.close()"
   ]
  }
 ],
 "metadata": {
  "kernelspec": {
   "display_name": "Python 3 (ipykernel)",
   "language": "python",
   "name": "python3"
  },
  "language_info": {
   "codemirror_mode": {
    "name": "ipython",
    "version": 3
   },
   "file_extension": ".py",
   "mimetype": "text/x-python",
   "name": "python",
   "nbconvert_exporter": "python",
   "pygments_lexer": "ipython3",
   "version": "3.9.2"
  }
 },
 "nbformat": 4,
 "nbformat_minor": 5
}
