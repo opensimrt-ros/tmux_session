{
 "cells": [
  {
   "cell_type": "markdown",
   "id": "dddf7524",
   "metadata": {},
   "source": [
    "# Graphs of Inverse Kinematics and Dynamics from XIMU3 using ROS-OpenSIMRT \n"
   ]
  },
  {
   "cell_type": "code",
   "execution_count": null,
   "id": "e704150f",
   "metadata": {},
   "outputs": [],
   "source": [
    "import os, sys\n",
    "sys.path.append(\"/home/frekle/github/opensimrt/catkin_ws/tmp/refdata/refdata\")\n",
    "import refdata\n",
    "import numpy as np\n",
    "import matplotlib.pyplot as plt\n",
    "\n",
    "import glob\n",
    "import logging\n",
    "logger = logging.getLogger(__name__)\n",
    "logger.setLevel(logging.DEBUG)\n",
    "\n",
    "refdata.plt.rcParams['figure.figsize'] = [12, 5]\n",
    "refdata.ROW_OF_FLOTS = 1"
   ]
  },
  {
   "cell_type": "code",
   "execution_count": null,
   "id": "c6e0ffd9",
   "metadata": {},
   "outputs": [],
   "source": [
    "from importlib import reload\n",
    "reload(refdata)"
   ]
  },
  {
   "cell_type": "code",
   "execution_count": null,
   "id": "b4cf3be4",
   "metadata": {},
   "outputs": [],
   "source": [
    "from IPython.display import display, Javascript\n",
    "\n",
    "def create_new_cell_below(content):\n",
    "    display(Javascript('''\n",
    "        var idx = Jupyter.notebook.get_selected_index();\n",
    "        var codeCell = Jupyter.notebook.insert_cell_at_index('code', idx);\n",
    "        codeCell.set_text('#GENERATED CELL!\\\\n%s');\n",
    "        Jupyter.notebook.select(idx);\n",
    "    ''' % content.replace('\\n', '\\\\n')))\n",
    "\n",
    "# Example usage:\n",
    "new_cell_content = \"\"\"\n",
    "# Your commands here\n",
    "print(\"Hello, World!\")\n",
    "\"\"\"\n",
    "\n",
    "#create_new_cell_below(new_cell_content)\n"
   ]
  },
  {
   "cell_type": "code",
   "execution_count": null,
   "id": "f4fc340c",
   "metadata": {},
   "outputs": [],
   "source": [
    "def find_steps(x, grf):\n",
    "    #refdata.plt.plot(x,grf)\n",
    "    #plt.show()\n",
    "    threshold = weight*9.8/10\n",
    "    step = False\n",
    "    step_seq = []\n",
    "    step_start = 1e200\n",
    "    step_stop = 1e200\n",
    "    min_duration = 0.05\n",
    "    lowering = False\n",
    "    rising = False\n",
    "    this_step = [None,None]\n",
    "    for t, y in zip(x,grf):\n",
    "        #print((y, threshold))\n",
    "        if not step and y>threshold:\n",
    "            #print(t)\n",
    "            rising = True\n",
    "            step_start= np.min([t,step_start])\n",
    "            if t-step_start > min_duration:\n",
    "                step = True\n",
    "                #print(\"is step\")\n",
    "                this_step[0] = step_start\n",
    "        if rising and y<threshold:\n",
    "            rising = False\n",
    "            step_start = 1e200\n",
    "        if step and y<threshold:\n",
    "            #print(\"trying to find lowering edge, %f, %f\"%(t,step_stop))\n",
    "            lowering = True\n",
    "            step_stop = np.min([t,step_stop])\n",
    "            if t-step_stop > min_duration:\n",
    "                #print(\"found lowering %s\"%step_stop)\n",
    "                step = False\n",
    "                this_step[1] = step_stop\n",
    "                step_seq.append(this_step)\n",
    "                this_step = [None,None]\n",
    "                step_start = 1e200\n",
    "                step_stop = 1e200\n",
    "        if lowering and y>threshold:\n",
    "            lowering = False\n",
    "            step_stop = 1e200\n",
    "    if this_step[0]:\n",
    "        step_seq.append(this_step) ## appending the last incomplete step because we need the start for segmentation\n",
    "    return step_seq"
   ]
  },
  {
   "cell_type": "code",
   "execution_count": null,
   "id": "7fb6b28a",
   "metadata": {},
   "outputs": [],
   "source": [
    "def gen_step_ticks(some_steps):\n",
    "    xy = [[],[]]\n",
    "    for a_step in some_steps:\n",
    "        xy[0].extend([a_step[0],a_step[0],a_step[0]])\n",
    "        xy[1].extend([weight*9.8/10,700,np.nan])\n",
    "        xy[0].extend([a_step[1],a_step[1],a_step[1]])\n",
    "        xy[1].extend([weight*9.8/10,800,np.nan])\n",
    "    return xy[0],xy[1]\n",
    "\n",
    "def construct_step_segmentation_vector(some_steps):\n",
    "    new_step_def_list = []\n",
    "    for i,ith_step in enumerate(some_steps):\n",
    "        #disregard the first step\n",
    "        if i == 0:\n",
    "            continue\n",
    "        new_step_def_list.append(ith_step[0])\n",
    "    return new_step_def_list"
   ]
  },
  {
   "cell_type": "code",
   "execution_count": null,
   "id": "cefe28d5",
   "metadata": {},
   "outputs": [],
   "source": [
    "weight= 54\n",
    "conv_names = refdata.graph_params.get_id_graph_params(weight)\n",
    "conv_names"
   ]
  },
  {
   "cell_type": "code",
   "execution_count": null,
   "id": "2adfcbdf",
   "metadata": {},
   "outputs": [],
   "source": [
    "#2023-03-03-11-56-24walking012_ik_lower.sto\n",
    "\n",
    "#sto_files = glob.glob(\"/home/frekle/github/opensimrt/catkin_ws/tmp/02/id_so_batch_walking_calcn/*.sto\")\n",
    "#this is overkill. I know I want to make sure I am looking at the correct file, \n",
    "#but it was getting too difficult to debug. just be extra careful!\n",
    "\n",
    "sto_files = glob.glob(\"*.sto\")\n",
    "sto_files.sort()\n",
    "sto_files"
   ]
  },
  {
   "cell_type": "code",
   "execution_count": null,
   "id": "2e598557",
   "metadata": {},
   "outputs": [],
   "source": [
    "ik_files = []\n",
    "grfL_files = []\n",
    "grfR_files = []\n",
    "for i in range(5):\n",
    "    for file in sto_files:\n",
    "        if \"SCRIPT%d\"%i in file:\n",
    "            if \"ik.sto\" in file:\n",
    "                ik_files.append(file)\n",
    "                continue\n",
    "            if \"grfLeft.sto\" in file:\n",
    "                grfL_files.append(file)\n",
    "                continue\n",
    "            if \"grfRight.sto\" in file:\n",
    "                grfR_files.append(file)\n",
    "                continue\n"
   ]
  },
  {
   "cell_type": "code",
   "execution_count": null,
   "id": "6a9b5c0b",
   "metadata": {},
   "outputs": [],
   "source": [
    "ik_files"
   ]
  },
  {
   "cell_type": "code",
   "execution_count": null,
   "id": "5d94cc1d",
   "metadata": {},
   "outputs": [],
   "source": [
    "grfL_files"
   ]
  },
  {
   "cell_type": "code",
   "execution_count": null,
   "id": "d969db73",
   "metadata": {},
   "outputs": [],
   "source": [
    "grfR_files"
   ]
  },
  {
   "cell_type": "code",
   "execution_count": null,
   "id": "fc11a1fb",
   "metadata": {
    "scrolled": false
   },
   "outputs": [],
   "source": [
    "step_seg_l_list = []\n",
    "step_seg_r_list = []\n",
    "\n",
    "for ik_, grfL_, grfR_ in zip(ik_files, grfL_files, grfR_files):\n",
    "    \n",
    "    \n",
    "    ik_2 = refdata.TrialData(ik_, remove_time_offset=False)\n",
    "    grfL = refdata.TrialData(grfL_, remove_time_offset=False)\n",
    "    grfR = refdata.TrialData(grfR_, remove_time_offset=False)\n",
    "    \n",
    "    zero_time = np.min(ik_2.data.time.values)\n",
    "    zero_time2 = np.min(grfL.data.time.values)\n",
    "    #print(\"\\nmin ik %s\"%zero_time)\n",
    "    #print(\"\\nmin insole %s\"%zero_time2)\n",
    "    #print((grfL.data.time-zero_time))\n",
    "    x_ik = list(ik_2.data.time-zero_time)\n",
    "    #print(\"x_ik:%s\"%x_ik)\n",
    "    #print(\"\\nik_2.data.time:%s\"%list(ik_2.data.time))\n",
    "    \n",
    "    x_grfL = list(grfL.data.time-zero_time)\n",
    "    left_steps_vec = find_steps(x_grfL,grfL.data[\"1_ground_force_vy\"])\n",
    "    #for s_v in left_steps_vec:\n",
    "    #    print(\"l: %s\"%s_v)\n",
    "        \n",
    "    left_st_seg = construct_step_segmentation_vector(left_steps_vec)\n",
    "    step_seg_l_list.append(left_st_seg)\n",
    "    \n",
    "    #print(left_st_seg)\n",
    "    \n",
    "    fig, ax1 = plt.subplots()\n",
    "        \n",
    "    refdata.plt.plot(x_ik,ik_2.data.ankle_angle_l/3.141592*180,\"--\", label=\"angle\")\n",
    "    \n",
    "    xsl, ysl = gen_step_ticks(left_steps_vec)\n",
    "    \n",
    "    \n",
    "    \n",
    "    ax2 = ax1.twinx()  # instantiate a second axes that shares the same x-axis\n",
    "    ax1.set_ylim((-20,25))\n",
    "    \n",
    "    refdata.plt.plot(xsl,ysl,'g')\n",
    "    \n",
    "    refdata.plt.plot(x_grfL,grfL.data[\"1_ground_force_vy\"],'r', label=\"y\")\n",
    "    refdata.plt.plot(x_grfL,grfL.data[\"1_ground_force_vx\"],'g', label=\"x\")\n",
    "    refdata.plt.plot(x_grfL,grfL.data[\"1_ground_force_vz\"],'b', label=\"z\")\n",
    "    refdata.plt.title(\"grfL\")\n",
    "    refdata.plt.legend()\n",
    "    refdata.plt.show()\n",
    "    \n",
    "    fig, ax1 = plt.subplots()\n",
    "    refdata.plt.plot(x_ik,ik_2.data.ankle_angle_r/3.141592*180,\"--\", label=\"angle\")\n",
    "    ax1.set_ylim((-20,25))\n",
    "    x_grfR = grfR.data.time-zero_time\n",
    "    \n",
    "    right_steps_vec = find_steps(x_grfR,grfR.data[\"ground_force_vy\"])\n",
    "    #for s_v in right_steps_vec:\n",
    "    #    print(\"r: %s\"%s_v)\n",
    "    \n",
    "    right_st_seg = construct_step_segmentation_vector(right_steps_vec)\n",
    "    step_seg_r_list.append(right_st_seg)\n",
    "    \n",
    "    #print(right_st_seg)\n",
    "    \n",
    "    xsr, ysr = gen_step_ticks(right_steps_vec)\n",
    "    \n",
    "    \n",
    "    \n",
    "    ax2 = ax1.twinx()  # instantiate a second axes that shares the same x-axis\n",
    "    \n",
    "    refdata.plt.plot(xsr,ysr,'g')\n",
    "    \n",
    "    refdata.plt.plot(x_grfR,grfR.data[\"ground_force_vy\"],'r', label=\"y\")\n",
    "    refdata.plt.plot(x_grfR,grfR.data[\"ground_force_vx\"],'g', label=\"x\")\n",
    "    refdata.plt.plot(x_grfR,grfR.data[\"ground_force_vz\"],'b', label=\"z\")\n",
    "    refdata.plt.title(\"grfR\")\n",
    "    refdata.plt.legend()\n",
    "    refdata.plt.show()"
   ]
  },
  {
   "cell_type": "code",
   "execution_count": null,
   "id": "4aa3174f",
   "metadata": {},
   "outputs": [],
   "source": [
    "skip_trials =[]"
   ]
  },
  {
   "cell_type": "code",
   "execution_count": null,
   "id": "2154852e",
   "metadata": {},
   "outputs": [],
   "source": [
    "id_files = glob.glob(\"*tau.sto\")\n",
    "id_files.sort()\n",
    "id_files"
   ]
  },
  {
   "cell_type": "markdown",
   "id": "4fc72d51",
   "metadata": {},
   "source": [
    "## Walking trials:"
   ]
  },
  {
   "cell_type": "code",
   "execution_count": null,
   "id": "7b82b7e8",
   "metadata": {},
   "outputs": [],
   "source": [
    "gait_trials= []\n",
    "for trial in id_files:\n",
    "    for gait_name in [\"gait\", \"walk\"]:\n",
    "        if gait_name in trial:\n",
    "            gait_trials.append(trial)\n",
    "gait_trials #= [\"/home/frekle/github/opensimrt/catkin_ws/tmp/02/48_s2_id_walking_filtered_1tau.sto\"]"
   ]
  },
  {
   "cell_type": "code",
   "execution_count": null,
   "id": "f5879c82",
   "metadata": {
    "scrolled": false
   },
   "outputs": [],
   "source": [
    "xy_knees = refdata.generate_knees_curves(gait_trials,[], curve_prefix=\"ankle_angle\")"
   ]
  },
  {
   "cell_type": "code",
   "execution_count": null,
   "id": "e8f5b760",
   "metadata": {},
   "outputs": [],
   "source": [
    "left_str_ = \"xy_time_clippings_left = {\\n\"\n",
    "for sg_list, (name, xy_tuples) in zip(step_seg_l_list,xy_knees[0].items()):\n",
    "    left_str_ +=\"\\\"%s\\\":%s,\\n\"%(name,sg_list)\n",
    "left_str_ += \"}\\n\"\n",
    "right_str_ = \"xy_time_clippings_right = {\\n\"\n",
    "for sg_list, (name, xy_tuples) in zip(step_seg_r_list,xy_knees[1].items()):\n",
    "    right_str_ += \"\\\"%s\\\":%s,\\n\"%(name,sg_list)\n",
    "right_str_ += \"}\\n\"\n",
    "\n"
   ]
  },
  {
   "cell_type": "code",
   "execution_count": null,
   "id": "0c2b4ffa",
   "metadata": {},
   "outputs": [],
   "source": [
    "## Only run once. fix in the cell below\n",
    "create_new_cell_below(left_str_)"
   ]
  },
  {
   "cell_type": "code",
   "execution_count": null,
   "id": "9bc17f2b",
   "metadata": {},
   "outputs": [],
   "source": [
    "from matplotlib.ticker import (MultipleLocator, AutoMinorLocator)\n",
    "for name, xy_tuples in xy_knees[0].items():\n",
    "    if name == gait_trials[0]:\n",
    "        #plt.title(name)        \n",
    "        print(name)\n",
    "        \n",
    "        refdata.clip_curve_test(xy_tuples[0],xy_tuples[1], time_clips = xy_time_clippings_left[name] )\n"
   ]
  },
  {
   "cell_type": "code",
   "execution_count": null,
   "id": "e15f84c1",
   "metadata": {},
   "outputs": [],
   "source": [
    "## Only run once. fix in the cell below\n",
    "create_new_cell_below(right_str_)"
   ]
  },
  {
   "cell_type": "code",
   "execution_count": null,
   "id": "f03d2025",
   "metadata": {},
   "outputs": [],
   "source": [
    "\n",
    "for name, xy_tuples in xy_knees[1].items():\n",
    "    if name == gait_trials[0]:\n",
    "        #plt.title(name)\n",
    "        print(name)\n",
    "        refdata.clip_curve_test(xy_tuples[0],xy_tuples[1], time_clips = xy_time_clippings_right[name] )"
   ]
  },
  {
   "cell_type": "code",
   "execution_count": null,
   "id": "4acb7dfd",
   "metadata": {},
   "outputs": [],
   "source": [
    "xy_clippings_both = (xy_time_clippings_left,xy_time_clippings_right)\n",
    "print(xy_clippings_both[0])\n",
    "print(xy_clippings_both[1])"
   ]
  },
  {
   "cell_type": "code",
   "execution_count": null,
   "id": "00da0f82",
   "metadata": {
    "scrolled": false
   },
   "outputs": [],
   "source": [
    "for name, xy_tuples in xy_knees[0].items():    \n",
    "    for gait_name in [\"gait\", \"walk\", \"fast\",\"slow\"]:\n",
    "        if gait_name in name:\n",
    "            print(name+r\" left\")        \n",
    "            refdata.clip_curve_test(xy_tuples[0],xy_tuples[1], time_clips = xy_time_clippings_left[name] )\n",
    "for name, xy_tuples in xy_knees[1].items():\n",
    "    for gait_name in [\"gait\", \"walk\", \"fast\",\"slow\"]:\n",
    "        if gait_name in name:\n",
    "            print(name+r\" right\")        \n",
    "            refdata.clip_curve_test(xy_tuples[0],xy_tuples[1], time_clips = xy_time_clippings_right[name] )"
   ]
  },
  {
   "cell_type": "code",
   "execution_count": null,
   "id": "db120fd7",
   "metadata": {},
   "outputs": [],
   "source": [
    "gait_trials"
   ]
  },
  {
   "cell_type": "code",
   "execution_count": null,
   "id": "b058ae73",
   "metadata": {},
   "outputs": [],
   "source": [
    "skip_trials = []"
   ]
  },
  {
   "cell_type": "code",
   "execution_count": null,
   "id": "08082e82",
   "metadata": {
    "scrolled": false
   },
   "outputs": [],
   "source": [
    "all_curves_for_this_person = refdata.generate_gait_plots(gait_trials, xy_clippings_both, ref=refdata.IdData(),\n",
    "                                                         skip_trials=skip_trials, only_walking=True, plot_steps = True\n",
    "                                                        , plot_reference=True, subplot_grid = (2,3),\n",
    "                                                        conv_names=refdata.graph_params.get_id_graph_params(weight))"
   ]
  },
  {
   "cell_type": "code",
   "execution_count": null,
   "id": "d4e3004a",
   "metadata": {
    "scrolled": false
   },
   "outputs": [],
   "source": [
    "if False:\n",
    "    plt.rcParams['figure.figsize'] = [5, 5]\n",
    "    for name, list_of_curves in all_curves_for_this_person.items():\n",
    "        ax = plt.gca()\n",
    "        ax.set_prop_cycle('color',plt.cm.inferno(np.linspace(0,1,3)))\n",
    "        for curves in list_of_curves[0]:\n",
    "            x = curves[0]\n",
    "            for curve in curves[1]:\n",
    "                plt.plot(x,curve)\n",
    "\n",
    "        plt.show()"
   ]
  },
  {
   "cell_type": "code",
   "execution_count": null,
   "id": "1ce9da48",
   "metadata": {},
   "outputs": [],
   "source": [
    "#dir(plt.cm)\n",
    "plt.rcParams['figure.dpi'] = 400 "
   ]
  },
  {
   "cell_type": "code",
   "execution_count": null,
   "id": "48d1c669",
   "metadata": {
    "scrolled": false
   },
   "outputs": [],
   "source": [
    "refdata.plot_std_plots(all_curves_for_this_person, plot_std=True, ref=refdata.IdData(), subplot_grid = (2,3),)"
   ]
  },
  {
   "cell_type": "code",
   "execution_count": null,
   "id": "4ef074d0",
   "metadata": {},
   "outputs": [],
   "source": [
    "refdata.plot_std_plots(all_curves_for_this_person, plot_std=False, ref=refdata.IdData(), subplot_grid = (2,3),)"
   ]
  },
  {
   "cell_type": "code",
   "execution_count": null,
   "id": "a8f85810",
   "metadata": {},
   "outputs": [],
   "source": [
    "all_curves_for_this_person.keys()"
   ]
  },
  {
   "cell_type": "markdown",
   "id": "1af65b64",
   "metadata": {},
   "source": [
    "# SO curves:"
   ]
  },
  {
   "cell_type": "code",
   "execution_count": null,
   "id": "e01d5575",
   "metadata": {},
   "outputs": [],
   "source": [
    "so_files = glob.glob(\"*so.sto\")\n",
    "so_files.sort()\n",
    "so_files"
   ]
  },
  {
   "cell_type": "code",
   "execution_count": null,
   "id": "e786758c",
   "metadata": {},
   "outputs": [],
   "source": [
    "so_gait_trials= []\n",
    "for trial in so_files:\n",
    "    for gait_name in [\"gait\", \"walk\"]:\n",
    "        if gait_name in trial:\n",
    "            so_gait_trials.append(trial)"
   ]
  },
  {
   "cell_type": "code",
   "execution_count": null,
   "id": "b31076ff",
   "metadata": {},
   "outputs": [],
   "source": [
    "xy_knees_so = refdata.generate_knees_curves(so_gait_trials, skip_trials, curve_prefix=\"glut_med1\", conv_names=refdata.graph_params.get_so_graph_params())"
   ]
  },
  {
   "cell_type": "code",
   "execution_count": null,
   "id": "5ffe9ba3",
   "metadata": {},
   "outputs": [],
   "source": [
    "xy_knees_list0 = []\n",
    "xy_knees_list1 = []\n",
    "for name, xy_tuples in xy_time_clippings_left.items():\n",
    "    xy_knees_list0.append((name,xy_tuples))    \n",
    "for name, xy_tuples in xy_time_clippings_right.items():\n",
    "    xy_knees_list1.append((name,xy_tuples))    "
   ]
  },
  {
   "cell_type": "code",
   "execution_count": null,
   "id": "1f8acec5",
   "metadata": {},
   "outputs": [],
   "source": [
    "left_so_str = \"xy_time_clippings_so_left = {\\n\"\n",
    "for i, (name, xy_tuples) in enumerate(xy_knees_so[0].items()):\n",
    "    left_so_str += \"\\\"\"+name+\"\\\":%s,\\n\"%str(xy_knees_list0[i][1])\n",
    "left_so_str +=\"}\\n\"\n",
    "right_so_str = \"xy_time_clippings_so_right = {\\n\"\n",
    "for i,(name, xy_tuples) in enumerate(xy_knees_so[1].items()):\n",
    "    right_so_str +=\"\\\"\"+name+\"\\\":%s,\\n\"%str(xy_knees_list1[i][1])\n",
    "right_so_str +=\"}\\n\"\n",
    "\n",
    "create_new_cell_below(left_so_str+right_so_str)"
   ]
  },
  {
   "cell_type": "code",
   "execution_count": null,
   "id": "909dcfb7",
   "metadata": {},
   "outputs": [],
   "source": [
    "xy_so_clippings_both = (xy_time_clippings_so_left,xy_time_clippings_so_right)\n",
    "print(xy_so_clippings_both[0])\n",
    "print(xy_so_clippings_both[1])"
   ]
  },
  {
   "cell_type": "markdown",
   "id": "00dca52a",
   "metadata": {},
   "source": [
    "## Generates curves for all muscles"
   ]
  },
  {
   "cell_type": "code",
   "execution_count": null,
   "id": "f5720226",
   "metadata": {},
   "outputs": [],
   "source": [
    "all_so_curves_for_this_person = refdata.generate_gait_plots(so_gait_trials, xy_so_clippings_both, ref=None,\n",
    "                                                         skip_trials=skip_trials, only_walking=True, plot_steps = True\n",
    "                                                        , plot_reference=False, conv_names=refdata.graph_params.get_so_graph_params())"
   ]
  },
  {
   "cell_type": "markdown",
   "id": "4dfdf2c7",
   "metadata": {},
   "source": [
    "## Generates curves for main calf muscles"
   ]
  },
  {
   "cell_type": "code",
   "execution_count": null,
   "id": "62126052",
   "metadata": {
    "scrolled": false
   },
   "outputs": [],
   "source": [
    "selected_curves_for_this_person = refdata.generate_gait_plots(so_gait_trials, xy_so_clippings_both, ref=None,\n",
    "                                                         skip_trials=skip_trials, only_walking=True, plot_steps = True\n",
    "                                                        , plot_reference=False, \n",
    "                                                     conv_names=refdata.graph_params.get_so_short_graph_params(),  subplot_grid=(2, 3))"
   ]
  },
  {
   "cell_type": "markdown",
   "id": "cbec90ab",
   "metadata": {},
   "source": [
    "## Generates plots for every trial and mean std curves for SO"
   ]
  },
  {
   "cell_type": "code",
   "execution_count": null,
   "id": "16f2dd9f",
   "metadata": {},
   "outputs": [],
   "source": [
    "refdata.plot_std_plots(selected_curves_for_this_person, plot_std=False, ref=refdata.SoData(), subplot_grid = (2,3),)"
   ]
  },
  {
   "cell_type": "code",
   "execution_count": null,
   "id": "cf03f102",
   "metadata": {},
   "outputs": [],
   "source": [
    "plt.rcParams['figure.figsize'] = [8, 10]\n",
    "refdata.plot_std_plots(selected_curves_for_this_person, plot_std=True, ref=refdata.SoData(), subplot_grid = (2,3),)"
   ]
  },
  {
   "cell_type": "code",
   "execution_count": null,
   "id": "7fa3b5c2",
   "metadata": {},
   "outputs": [],
   "source": [
    "refdata.SoData()"
   ]
  },
  {
   "cell_type": "markdown",
   "id": "62013936",
   "metadata": {},
   "source": [
    "## generate graphs from id events"
   ]
  },
  {
   "cell_type": "code",
   "execution_count": null,
   "id": "091f150c",
   "metadata": {},
   "outputs": [],
   "source": [
    "import re\n",
    "\n",
    "def escape_special_characters(input_string):\n",
    "    # Define a dictionary of characters to be escaped\n",
    "    escape_dict = {\n",
    "        \"&\": r\"\\&\",\n",
    "        \"%\": r\"\\%\",\n",
    "        \"$\": r\"\\$\",\n",
    "        \"#\": r\"\\#\",\n",
    "        \"_\": r\"\\_\",\n",
    "        \"{\": r\"\\{\",\n",
    "        \"}\": r\"\\}\",\n",
    "        \"^\": r\"\\^{}\",\n",
    "        \"~\": r\"\\textasciitilde{}\",\n",
    "        \"\\\\\": r\"\\textbackslash{}\"\n",
    "    }\n",
    "    \n",
    "    # Use regular expressions to find and escape the characters\n",
    "    escaped_string = re.sub(r'([&%$#_{}^~\\\\])', lambda x: escape_dict[x.group()], input_string)\n",
    "    \n",
    "    return escaped_string\n",
    "\n",
    "import pandas as pd\n",
    "import numpy as np\n",
    "import matplotlib.pyplot as plt\n",
    "\n",
    "plt.rcParams['figure.figsize'] = [16, 12]\n",
    "def eventnames(df):\n",
    "    d = {}\n",
    "    for coln in df.columns:\n",
    "        if \"field.header.stamp\" == coln:\n",
    "            #real_name = df[\"field.header.frame_id\"]\n",
    "            real_name = \"ik produced\"\n",
    "            d.update({coln: real_name})\n",
    "        if \"stamp\" in coln and \"event\" in coln:\n",
    "            real_name_col = \".\".join(coln.split(\".\")[0:3])+\".name\"\n",
    "            real_name = df[real_name_col][0]\n",
    "            d.update ({coln: real_name})\n",
    "    #for coln, real_name in d.items():\n",
    "    #    print(\"%s -> %s\"%(coln, real_name))\n",
    "    return d\n",
    "#wanted_cols = eventnames(df)\n",
    "\n",
    "def get_cols(df):\n",
    "    wanted_cols = eventnames(df)\n",
    "    a = []\n",
    "    for v in wanted_cols:\n",
    "        a.append(v)\n",
    "        #print(v)\n",
    "    return a, wanted_cols\n",
    "\n",
    "def rename_df(df):\n",
    "    a = get_cols(df)\n",
    "    return df[a[0]].rename(columns=a[1])\n",
    "\n",
    "def plot_differences(df):\n",
    "    \n",
    "    fig, ax = plt.subplots()\n",
    "    for i, col in enumerate(df.columns):\n",
    "        if i == 0:\n",
    "            continue\n",
    "        this_column = df.iloc[:,i]\n",
    "        #print(this_column)\n",
    "        ref_column = df.iloc[:,i-1]\n",
    "        #print(ref_column)\n",
    "        \n",
    "        y = this_column -ref_column\n",
    "        y_label = df.columns[i] +\" - \" + df.columns[i-1]\n",
    "        print(\"%s:\\t %f ms\"%(y_label+\" mean\", np.mean(y)/1000000))\n",
    "        y_label_cleaned = escape_special_characters(y_label)\n",
    "        ax.plot(y, label= y_label_cleaned)\n",
    "    ax.legend()\n",
    "    \n",
    "for i in range(5):\n",
    "    df = pd.read_csv(\"id_output_walking_%d.bag_timings.txt\"%i)\n",
    "    a = rename_df(df)\n",
    "    plot_differences(a)\n",
    "    plt.show()"
   ]
  },
  {
   "cell_type": "markdown",
   "id": "59acd20e",
   "metadata": {},
   "source": [
    "# Augmented Reality part"
   ]
  },
  {
   "cell_type": "code",
   "execution_count": null,
   "id": "2ffd6272",
   "metadata": {},
   "outputs": [],
   "source": [
    "from scipy.signal import savgol_filter\n",
    "from copy import deepcopy\n",
    "def filter_stuff(curves_for_person_):\n",
    "    curves_for_person = deepcopy(curves_for_person_)\n",
    "    for joint in curves_for_person.keys():\n",
    "        for num_curve in range(len(curves_for_person[joint][0][0][1])):\n",
    "            curves_for_person[joint][0][0][1][num_curve] = savgol_filter(curves_for_person[joint][0][0][1][num_curve],10,3)\n",
    "    return curves_for_person\n",
    "\n",
    "filtered_curved = filter_stuff(all_curves_for_this_person)\n"
   ]
  },
  {
   "cell_type": "code",
   "execution_count": null,
   "id": "805138b5",
   "metadata": {},
   "outputs": [],
   "source": [
    "refdata.plot_std_plots(filtered_curved, plot_std=False, ref=refdata.IdData(), subplot_grid = (2,3),)"
   ]
  },
  {
   "cell_type": "code",
   "execution_count": null,
   "id": "c4e7b4d2",
   "metadata": {},
   "outputs": [],
   "source": [
    "from scipy.signal import savgol_filter\n",
    "x= all_curves_for_this_person['hip_flexion_l'][0][0][0]\n",
    "y= all_curves_for_this_person['hip_flexion_l'][0][0][1][0]\n",
    "yhat = savgol_filter(y, 21, 3) # window size 51, polynomial order 3\n",
    "\n",
    "plt.plot(x,y)\n",
    "plt.plot(x,yhat, color='red')\n",
    "plt.show()\n"
   ]
  },
  {
   "cell_type": "code",
   "execution_count": null,
   "id": "00f49b97",
   "metadata": {},
   "outputs": [],
   "source": [
    "refdata.plot_std_plots(all_curves_for_this_person, ref=refdata.IdData(), plot_std=False, subplot_grid = (2,3),)"
   ]
  },
  {
   "cell_type": "markdown",
   "id": "37152391",
   "metadata": {},
   "source": [
    "# Saving figures part\n",
    "\n",
    "This is old, needs to be updated before being used!"
   ]
  },
  {
   "cell_type": "code",
   "execution_count": null,
   "id": "2c9e116b",
   "metadata": {},
   "outputs": [],
   "source": [
    "import pickle\n"
   ]
  },
  {
   "cell_type": "code",
   "execution_count": null,
   "id": "d58a912c",
   "metadata": {},
   "outputs": [],
   "source": [
    "subject_data_filename_prefix = os.getcwd().split(\"experiment_data/\")[1].split(\"/\")[0]"
   ]
  },
  {
   "cell_type": "code",
   "execution_count": null,
   "id": "0b0a6a14",
   "metadata": {},
   "outputs": [],
   "source": [
    "subject_data_filename_prefix"
   ]
  },
  {
   "cell_type": "code",
   "execution_count": null,
   "id": "01bc8a34",
   "metadata": {},
   "outputs": [],
   "source": [
    "subject_data_directory = os.getcwd().split(\"experiment_data/\")[0]+\"experiment_data/\""
   ]
  },
  {
   "cell_type": "code",
   "execution_count": null,
   "id": "9780a57e",
   "metadata": {},
   "outputs": [],
   "source": [
    "subject_complete_filename = \"{}{}_allcurves.pkl\".format(subject_data_directory,subject_data_filename_prefix)\n",
    "print(subject_complete_filename)\n",
    "f = open(subject_complete_filename,\"wb\")\n",
    "pickle.dump(all_curves_for_this_person,f)\n",
    "f.close()"
   ]
  },
  {
   "cell_type": "code",
   "execution_count": null,
   "id": "bc52107a",
   "metadata": {
    "scrolled": false
   },
   "outputs": [],
   "source": [
    "import pandas as pd\n",
    "import matplotlib\n",
    "matplotlib.rc('text', usetex = False)\n",
    "plt.rcParams['figure.figsize'] = [18, 5]\n",
    "for file in ik_files[2:]:\n",
    "    print(\"file: %s\"%file)\n",
    "    data = pd.read_csv (file, sep = '\\t', skiprows=4)\n",
    "\n",
    "    #remove time ofset\n",
    "    data.time = data.time - data.time[0]\n",
    "\n",
    "    data.set_index('time')\n",
    "    print(data.columns)\n",
    "\n",
    "    data.plot(x=\"time\", y=[\"lumbar_extension\",\"lumbar_bending\",\"lumbar_rotation\"], ylim=(-1.57,1.57))\n",
    "\n",
    "    plt.tight_layout()\n",
    "    plt.show()\n",
    "    \n",
    "    data.plot(x=\"time\", y=[\"pelvis_tilt\",\"pelvis_list\",\"pelvis_rotation\"], ylim=(-1.57,1.57))\n",
    "\n",
    "    plt.tight_layout()\n",
    "    plt.show()\n",
    "\n",
    "    data.plot(x=\"time\", y=[\"hip_flexion_r\",\"hip_adduction_r\",\"hip_rotation_r\"], ylim=(-1.57,1.57))\n",
    "    plt.tight_layout()\n",
    "    plt.show()\n",
    "\n",
    "    data.plot(x=\"time\", y=[\"hip_flexion_l\",\"hip_adduction_l\",\"hip_rotation_l\"], ylim=(-1.57,1.57))\n",
    "    plt.tight_layout()\n",
    "    plt.show()\n",
    "\n",
    "    data.plot(x=\"time\", y=[\"knee_angle_r\",\"knee_angle_l\"], ylim=(-1.57,1.57))\n",
    "    plt.tight_layout()\n",
    "    plt.show()\n",
    "\n",
    "    data.plot(x=\"time\", y=[\"ankle_angle_r\",\"ankle_angle_l\"], ylim=(-1.57,1.57))\n",
    "    plt.tight_layout()\n",
    "    plt.show()"
   ]
  }
 ],
 "metadata": {
  "kernelspec": {
   "display_name": "Python 3 (ipykernel)",
   "language": "python",
   "name": "python3"
  },
  "language_info": {
   "codemirror_mode": {
    "name": "ipython",
    "version": 3
   },
   "file_extension": ".py",
   "mimetype": "text/x-python",
   "name": "python",
   "nbconvert_exporter": "python",
   "pygments_lexer": "ipython3",
   "version": "3.9.2"
  }
 },
 "nbformat": 4,
 "nbformat_minor": 5
}
